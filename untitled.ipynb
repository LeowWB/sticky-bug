{
 "cells": [
  {
   "cell_type": "markdown",
   "metadata": {},
   "source": [
    "## <font color=#6B49F5> A Simple Implementation of FedAvg with PyTorch on IID Data </font> \n",
    "Please see https://towardsdatascience.com/federated-learning-a-simple-implementation-of-fedavg-federated-averaging-with-pytorch-90187c9c9577 for more details."
   ]
  },
  {
   "cell_type": "markdown",
   "metadata": {},
   "source": [
    "## TODO\n",
    "search for other TODOs. if you're not gonna deal w them, remove them so the code looks good."
   ]
  },
  {
   "cell_type": "code",
   "execution_count": 1,
   "metadata": {},
   "outputs": [],
   "source": [
    "DEBUGGING_RUN_FAST = True"
   ]
  },
  {
   "cell_type": "code",
   "execution_count": 2,
   "metadata": {
    "tags": []
   },
   "outputs": [
    {
     "name": "stderr",
     "output_type": "stream",
     "text": [
      "d:\\documents\\github\\sticky-bug\\env\\lib\\site-packages\\setuptools\\distutils_patch.py:25: UserWarning: Distutils was imported before Setuptools. This usage is discouraged and may exhibit undesirable behaviors or errors. Please use Setuptools' objects directly or at least import Setuptools first.\n",
      "  warnings.warn(\n",
      "d:\\documents\\github\\sticky-bug\\env\\lib\\site-packages\\torchvision\\io\\image.py:11: UserWarning: Failed to load image Python extension: Could not find module 'D:\\Documents\\GitHub\\sticky-bug\\env\\Lib\\site-packages\\torchvision\\image.pyd' (or one of its dependencies). Try using the full path with constructor syntax.\n",
      "  warn(f\"Failed to load image Python extension: {e}\")\n"
     ]
    }
   ],
   "source": [
    "import numpy as np\n",
    "import pandas as pd\n",
    "from sklearn import tree\n",
    "from sklearn.metrics import accuracy_score\n",
    "from sklearn.ensemble import RandomForestClassifier\n",
    "from sklearn.mixture import BayesianGaussianMixture\n",
    "import random\n",
    "import math\n",
    "from torch.utils.tensorboard import SummaryWriter\n",
    "from matplotlib import pyplot\n",
    "\n",
    "from pathlib import Path\n",
    "import requests\n",
    "import pickle\n",
    "import gzip\n",
    "\n",
    "import torch\n",
    "import math\n",
    "import torch.nn.functional as F\n",
    "from torch import nn\n",
    "from torch import optim\n",
    "import torchvision\n",
    "import torchvision.transforms as transforms\n",
    "from torch.utils.data import TensorDataset\n",
    "from torch.utils.data import DataLoader\n",
    "import matplotlib.pyplot as plt\n",
    "import statsmodels.stats.weightstats\n",
    "\n",
    "pd.options.display.float_format = \"{:,.4f}\".format\n",
    "if torch.cuda.is_available():\n",
    "    device = torch.device('cuda')\n",
    "else:\n",
    "    device = torch.device('cpu')"
   ]
  },
  {
   "cell_type": "code",
   "execution_count": 3,
   "metadata": {},
   "outputs": [
    {
     "name": "stdout",
     "output_type": "stream",
     "text": [
      "(50000, 784) (50000,) (10000, 784) (10000,) (10000, 784) (10000,)\n",
      "0 >> train: 4932 , valid: 991 , test: 980 , total: 6903\n",
      "1 >> train: 5678 , valid: 1064 , test: 1135 , total: 7877\n",
      "2 >> train: 4968 , valid: 990 , test: 1032 , total: 6990\n",
      "3 >> train: 5101 , valid: 1030 , test: 1010 , total: 7141\n",
      "4 >> train: 4859 , valid: 983 , test: 982 , total: 6824\n",
      "5 >> train: 4506 , valid: 915 , test: 892 , total: 6313\n",
      "6 >> train: 4951 , valid: 967 , test: 958 , total: 6876\n",
      "7 >> train: 5175 , valid: 1090 , test: 1028 , total: 7293\n",
      "8 >> train: 4842 , valid: 1009 , test: 974 , total: 6825\n",
      "9 >> train: 4988 , valid: 961 , test: 1009 , total: 6958\n",
      "y_train_total= 50000\n",
      "y_valid_total= 10000\n",
      "y_test_total= 10000\n",
      "total= 70000\n"
     ]
    }
   ],
   "source": [
    "'''read dataset'''\n",
    "\n",
    "DATA_PATH = Path(\"data\")\n",
    "PATH = DATA_PATH / \"mnist\"\n",
    "# PATH = os.join.path(p1, p2)\n",
    "PATH.mkdir(parents=True, exist_ok=True)\n",
    "\n",
    "URL = \"http://deeplearning.net/data/mnist/\"\n",
    "FILENAME = \"mnist.pkl.gz\"\n",
    "\n",
    "if not (PATH / FILENAME).exists():\n",
    "        content = requests.get(URL + FILENAME).content\n",
    "        (PATH / FILENAME).open(\"wb\").write(content)\n",
    "        \n",
    "with gzip.open((PATH / FILENAME).as_posix(), \"rb\") as f:\n",
    "        ((x_train, y_train), (x_valid, y_valid), (x_test, y_test)) = pickle.load(f, encoding=\"latin-1\")\n",
    "\n",
    "# Let's see the dataset size\n",
    "print(x_train.shape, y_train.shape , x_valid.shape, y_valid.shape, x_test.shape, y_test.shape)\n",
    "\n",
    "# Let's check how many of each tag are.\n",
    "y_train_total=0\n",
    "y_valid_total=0\n",
    "y_test_total=0\n",
    "total=0\n",
    "for i in range(10):\n",
    "    print(i,\">> train:\", sum(y_train==i), \", valid:\", sum(y_valid==i), \n",
    "          \", test:\", sum(y_test==i), \", total:\", sum(y_train==i)+sum(y_valid==i)+sum(y_test==i) )\n",
    "    y_train_total=y_train_total + sum(y_train==i)\n",
    "    y_valid_total=y_valid_total + sum(y_valid==i)\n",
    "    y_test_total=y_test_total + sum(y_test==i)\n",
    "    total=total+sum(y_train==i)+sum(y_valid==i)+sum(y_test==i)\n",
    "    \n",
    "print(\"y_train_total=\", y_train_total) \n",
    "print(\"y_valid_total=\", y_valid_total) \n",
    "print(\"y_test_total=\", y_test_total)\n",
    "print(\"total=\", total)"
   ]
  },
  {
   "cell_type": "code",
   "execution_count": 4,
   "metadata": {
    "jupyter": {
     "source_hidden": true
    },
    "tags": []
   },
   "outputs": [],
   "source": [
    "# fig, axes = pyplot.subplots(8,8,figsize=(8,8))\n",
    "# for i in range(8):\n",
    "#     for j in range(8):\n",
    "#         num_index = np.random.randint(len(x_train))\n",
    "#         axes[i,j].imshow(x_train[num_index].reshape((28,28)), cmap=\"gray\")\n",
    "#         axes[i,j].axis(\"off\")\n",
    "# pyplot.show() "
   ]
  },
  {
   "cell_type": "code",
   "execution_count": 5,
   "metadata": {},
   "outputs": [],
   "source": [
    "'''\n",
    "In order to distribute the data to the nodes as IID, an equal number of data from each label must be taken. \n",
    "This function groups them and shuffles the order within itself. \n",
    "Please be aware that, what shuffled here is the indexes of the data, we will use them when retrieving the data in the future\n",
    "But these indexes need to be reset to avoid key errors. \n",
    "Therefore, a new column has been defined and shuffled indexes are kept there.\n",
    "\n",
    "returns dict. dict's keys are of the form 'label0', values are pandas dataframes which indicate the indices in the dataset with that label.\n",
    "'''\n",
    "def split_and_shuffle_labels(y_data, seed, amount):\n",
    "    y_data = y_data.clone().cpu()\n",
    "    y_data=pd.DataFrame(y_data,columns=[\"labels\"])\n",
    "    y_data[\"i\"]=np.arange(len(y_data))\n",
    "    label_dict = dict()\n",
    "    for i in range(10):\n",
    "        var_name=\"label\" + str(i)\n",
    "        label_info=y_data[y_data[\"labels\"]==i]\n",
    "        np.random.seed(seed)\n",
    "        label_info=np.random.permutation(label_info)\n",
    "        label_info=label_info[0:amount]\n",
    "        label_info=pd.DataFrame(label_info, columns=[\"labels\",\"i\"])\n",
    "        label_dict.update({var_name: label_info })\n",
    "    return label_dict"
   ]
  },
  {
   "cell_type": "code",
   "execution_count": 6,
   "metadata": {},
   "outputs": [],
   "source": [
    "'''\n",
    "This function divides the indexes in each node with an equal number of each label. \n",
    "(Here the indexes are still distributed, not data)\n",
    "\n",
    "returns dict, keys are 'sample0' up to number of samples. values are pandas dataframes, each of which contains a buncha indices\n",
    "of the dataset. they're grouped such that each dataframe (sample0, sample1, etc) has the same number of each label present.\n",
    "'''\n",
    "def get_iid_subsamples_indices(label_dict, number_of_samples, amount):\n",
    "    sample_dict= dict()\n",
    "    batch_size=int(math.floor(amount/number_of_samples))\n",
    "    for i in range(number_of_samples):\n",
    "        sample_name=\"sample\"+str(i)\n",
    "        dumb=pd.DataFrame()\n",
    "        for j in range(10):\n",
    "            label_name=str(\"label\")+str(j)\n",
    "            a=label_dict[label_name][i*batch_size:(i+1)*batch_size]\n",
    "            dumb=pd.concat([dumb,a], axis=0)\n",
    "        dumb.reset_index(drop=True, inplace=True)    \n",
    "        sample_dict.update({sample_name: dumb}) \n",
    "    return sample_dict\n",
    "\n",
    "'''\n",
    "same as above but clearly imbalanced. \n",
    "if done w number_of_samples=3 then party 0 has [0,0], party 1 has [1,3], party 2 has [4,9]\n",
    "'''\n",
    "def get_iid_subsamples_indices_imbalanced(label_dict, number_of_samples, amount):\n",
    "    sample_dict= dict()\n",
    "    batch_size=int(math.floor(amount/number_of_samples))\n",
    "    for i in range(number_of_samples):\n",
    "        sample_name=\"sample\"+str(i)\n",
    "        dumb=pd.DataFrame()\n",
    "        for k in range(10):\n",
    "            if i==0:\n",
    "                j = k % 2\n",
    "            elif i==1:\n",
    "                j = k % 5\n",
    "            else:\n",
    "                j = k\n",
    "            label_name=str(\"label\")+str(j)\n",
    "            a=label_dict[label_name][i*batch_size:(i+1)*batch_size]\n",
    "            dumb=pd.concat([dumb,a], axis=0)\n",
    "        dumb.reset_index(drop=True, inplace=True)    \n",
    "        sample_dict.update({sample_name: dumb}) \n",
    "    return sample_dict"
   ]
  },
  {
   "cell_type": "code",
   "execution_count": 7,
   "metadata": {},
   "outputs": [],
   "source": [
    "''' distributes x and y data to nodes in dictionary.'''\n",
    "def create_iid_subsamples(sample_dict, x_data, y_data, x_name, y_name):\n",
    "    x_data_dict= dict()\n",
    "    y_data_dict= dict()\n",
    "    \n",
    "    for i in range(len(sample_dict)):  ### len(sample_dict)= number of samples\n",
    "        xname= x_name+str(i)\n",
    "        yname= y_name+str(i)\n",
    "        sample_name=\"sample\"+str(i)\n",
    "        \n",
    "        indices=np.sort(np.array(sample_dict[sample_name][\"i\"]))\n",
    "        \n",
    "        x_info= x_data[indices,:]\n",
    "        x_data_dict.update({xname : x_info})\n",
    "        \n",
    "        y_info= y_data[indices]\n",
    "        y_data_dict.update({yname : y_info})\n",
    "        \n",
    "    return x_data_dict, y_data_dict"
   ]
  },
  {
   "cell_type": "markdown",
   "metadata": {},
   "source": [
    "--------------------------\n",
    "### <span style=\"background-color:#F087F9\"> Classification Model </span> "
   ]
  },
  {
   "cell_type": "code",
   "execution_count": 8,
   "metadata": {},
   "outputs": [],
   "source": [
    "class Net2nn(nn.Module):\n",
    "    def __init__(self):\n",
    "        super(Net2nn, self).__init__()\n",
    "        self.fc1=nn.Linear(784,200)\n",
    "        self.fc2=nn.Linear(200,200)\n",
    "        self.fc3=nn.Linear(200,10)\n",
    "        \n",
    "    def forward(self,x):\n",
    "        x=F.relu(self.fc1(x))\n",
    "        x=F.relu(self.fc2(x))\n",
    "        x=self.fc3(x)\n",
    "        return x"
   ]
  },
  {
   "cell_type": "code",
   "execution_count": 9,
   "metadata": {},
   "outputs": [],
   "source": [
    "class WrappedDataLoader:\n",
    "    def __init__(self, dl, func):\n",
    "        self.dl = dl\n",
    "        self.func = func\n",
    "\n",
    "    def __len__(self):\n",
    "        return len(self.dl)\n",
    "\n",
    "    def __iter__(self):\n",
    "        batches = iter(self.dl)\n",
    "        for b in batches:\n",
    "            yield (self.func(*b))"
   ]
  },
  {
   "cell_type": "code",
   "execution_count": 10,
   "metadata": {},
   "outputs": [],
   "source": [
    "def train(model, train_loader, criterion, optimizer):\n",
    "    model.train()\n",
    "    train_loss = 0.0\n",
    "    correct = 0\n",
    "\n",
    "    for data, target in train_loader:\n",
    "        output = model(data)\n",
    "        loss = criterion(output, target)\n",
    "        optimizer.zero_grad()\n",
    "        loss.backward()\n",
    "        optimizer.step()\n",
    "        \n",
    "        train_loss += loss.item()\n",
    "        prediction = output.argmax(dim=1, keepdim=True)\n",
    "        correct += prediction.eq(target.view_as(prediction)).sum().item()\n",
    "        \n",
    "\n",
    "    return train_loss / len(train_loader), correct/len(train_loader.dataset)"
   ]
  },
  {
   "cell_type": "code",
   "execution_count": 11,
   "metadata": {},
   "outputs": [],
   "source": [
    "def validation(model, test_loader, criterion):\n",
    "    model.eval()\n",
    "    test_loss = 0.0\n",
    "    correct = 0\n",
    "    with torch.no_grad():\n",
    "        for data, target in test_loader:\n",
    "            output = model(data)\n",
    "            \n",
    "            test_loss += criterion(output, target).item()\n",
    "            prediction = output.argmax(dim=1, keepdim=True)\n",
    "            correct += prediction.eq(target.view_as(prediction)).sum().item()\n",
    "\n",
    "    test_loss /= len(test_loader)\n",
    "    correct /= len(test_loader.dataset)\n",
    "\n",
    "    return (test_loss, correct)"
   ]
  },
  {
   "cell_type": "markdown",
   "metadata": {},
   "source": [
    "---------------------------------\n",
    "### <span style=\"background-color:#F087F9\"> Functions for Federated Averaging </span> "
   ]
  },
  {
   "cell_type": "code",
   "execution_count": 12,
   "metadata": {},
   "outputs": [],
   "source": [
    "'''This function creates a model, optimizer and loss function for each node.'''\n",
    "def create_model_optimizer_criterion_dict(number_of_samples):\n",
    "    return create_model_optimizer_criterion_dict_for_these_parties(range(number_of_samples))\n",
    "\n",
    "def create_model_optimizer_criterion_dict_for_these_parties(parties):\n",
    "    model_dict = dict()\n",
    "    optimizer_dict= dict()\n",
    "    criterion_dict = dict()\n",
    "    \n",
    "    for i in parties:\n",
    "        model_name=\"model\"+str(i)\n",
    "        model_info=Net2nn()\n",
    "        model_info.to(device)\n",
    "        model_dict.update({model_name : model_info })\n",
    "        \n",
    "        optimizer_name=\"optimizer\"+str(i)\n",
    "        optimizer_info = torch.optim.SGD(model_info.parameters(), lr=learning_rate, momentum=momentum)\n",
    "        optimizer_dict.update({optimizer_name : optimizer_info })\n",
    "        \n",
    "        criterion_name = \"criterion\"+str(i)\n",
    "        criterion_info = nn.CrossEntropyLoss()\n",
    "        criterion_dict.update({criterion_name : criterion_info})\n",
    "        \n",
    "    return model_dict, optimizer_dict, criterion_dict "
   ]
  },
  {
   "cell_type": "code",
   "execution_count": 13,
   "metadata": {},
   "outputs": [],
   "source": [
    "''' takes the average of the weights in individual nodes.'''\n",
    "\n",
    "def get_averaged_weights(model_dict, number_of_samples, name_of_models):\n",
    "    return get_averaged_weights_for_these_parties(model_dict, range(number_of_samples), name_of_models)\n",
    "\n",
    "def get_averaged_weights_for_these_parties(model_dict, parties, name_of_models):\n",
    "\n",
    "    first_model = model_dict[list(model_dict.keys())[0]]\n",
    "    \n",
    "    fc1_mean_weight = torch.zeros(size=first_model.fc1.weight.shape).to(device)\n",
    "    fc1_mean_bias = torch.zeros(size=first_model.fc1.bias.shape).to(device)\n",
    "    \n",
    "    fc2_mean_weight = torch.zeros(size=first_model.fc2.weight.shape).to(device)\n",
    "    fc2_mean_bias = torch.zeros(size=first_model.fc2.bias.shape).to(device)\n",
    "    \n",
    "    fc3_mean_weight = torch.zeros(size=first_model.fc3.weight.shape).to(device)\n",
    "    fc3_mean_bias = torch.zeros(size=first_model.fc3.bias.shape).to(device)\n",
    "    \n",
    "    with torch.no_grad():\n",
    "    \n",
    "        for i in parties:\n",
    "            fc1_mean_weight += model_dict[name_of_models[i]].fc1.weight.data.clone()\n",
    "            fc1_mean_bias += model_dict[name_of_models[i]].fc1.bias.data.clone()\n",
    "        \n",
    "            fc2_mean_weight += model_dict[name_of_models[i]].fc2.weight.data.clone()\n",
    "            fc2_mean_bias += model_dict[name_of_models[i]].fc2.bias.data.clone()\n",
    "        \n",
    "            fc3_mean_weight += model_dict[name_of_models[i]].fc3.weight.data.clone()\n",
    "            fc3_mean_bias += model_dict[name_of_models[i]].fc3.bias.data.clone()\n",
    "\n",
    "        \n",
    "        fc1_mean_weight =fc1_mean_weight/len(parties)\n",
    "        fc1_mean_bias = fc1_mean_bias/ len(parties)\n",
    "    \n",
    "        fc2_mean_weight =fc2_mean_weight/len(parties)\n",
    "        fc2_mean_bias = fc2_mean_bias/ len(parties)\n",
    "    \n",
    "        fc3_mean_weight =fc3_mean_weight/len(parties)\n",
    "        fc3_mean_bias = fc3_mean_bias/ len(parties)\n",
    "    \n",
    "    return fc1_mean_weight, fc1_mean_bias, fc2_mean_weight, fc2_mean_bias, fc3_mean_weight, fc3_mean_bias"
   ]
  },
  {
   "cell_type": "code",
   "execution_count": 14,
   "metadata": {},
   "outputs": [],
   "source": [
    "'''sends the averaged weights of individual nodes to the main model and sets them as the new weights of the main model.'''\n",
    "def set_averaged_weights_as_main_model_weights_and_update_main_model(main_model,model_dict, number_of_samples, name_of_models):\n",
    "    return set_averaged_weights_as_main_model_weights_and_update_main_model_for_these_parties(main_model, model_dict, range(number_of_samples), name_of_models)\n",
    "    \n",
    "def set_averaged_weights_as_main_model_weights_and_update_main_model_for_these_parties(main_model,model_dict, parties, name_of_models):\n",
    "    fc1_mean_weight, fc1_mean_bias, fc2_mean_weight, fc2_mean_bias, fc3_mean_weight, fc3_mean_bias = get_averaged_weights_for_these_parties(model_dict, parties, name_of_models)\n",
    "    with torch.no_grad():\n",
    "        main_model.fc1.weight.data = fc1_mean_weight.data.clone()\n",
    "        main_model.fc2.weight.data = fc2_mean_weight.data.clone()\n",
    "        main_model.fc3.weight.data = fc3_mean_weight.data.clone()\n",
    "\n",
    "        main_model.fc1.bias.data = fc1_mean_bias.data.clone()\n",
    "        main_model.fc2.bias.data = fc2_mean_bias.data.clone()\n",
    "        main_model.fc3.bias.data = fc3_mean_bias.data.clone() \n",
    "    return main_model\n",
    "\n",
    "\n",
    "''' sends the parameters of the main model to the nodes.'''\n",
    "def send_main_model_to_nodes_and_update_model_dict(main_model, model_dict, number_of_samples, name_of_models):\n",
    "    return send_main_model_to_nodes_and_update_model_dict_for_these_parties(main_model, model_dict, range(number_of_samples), name_of_models)\n",
    "\n",
    "def send_main_model_to_nodes_and_update_model_dict_for_these_parties(main_model, model_dict, parties, name_of_models):\n",
    "    with torch.no_grad():\n",
    "        for i in parties:\n",
    "\n",
    "            model_dict[name_of_models[i]].fc1.weight.data =main_model.fc1.weight.data.clone()\n",
    "            model_dict[name_of_models[i]].fc2.weight.data =main_model.fc2.weight.data.clone()\n",
    "            model_dict[name_of_models[i]].fc3.weight.data =main_model.fc3.weight.data.clone() \n",
    "            \n",
    "            model_dict[name_of_models[i]].fc1.bias.data =main_model.fc1.bias.data.clone()\n",
    "            model_dict[name_of_models[i]].fc2.bias.data =main_model.fc2.bias.data.clone()\n",
    "            model_dict[name_of_models[i]].fc3.bias.data =main_model.fc3.bias.data.clone() \n",
    "    \n",
    "    return model_dict"
   ]
  },
  {
   "cell_type": "code",
   "execution_count": 15,
   "metadata": {},
   "outputs": [],
   "source": [
    "''' compares the accuracy of the main model and the local model running on each node.'''\n",
    "def compare_local_and_merged_model_performance(number_of_samples):\n",
    "    accuracy_table=pd.DataFrame(data=np.zeros((number_of_samples,3)), columns=[\"sample\", \"local_ind_model\", \"merged_main_model\"])\n",
    "    for i in range (number_of_samples):\n",
    "    \n",
    "        test_ds = TensorDataset(x_test_dict[name_of_x_test_sets[i]], y_test_dict[name_of_y_test_sets[i]])\n",
    "        test_dl = DataLoader(test_ds, batch_size=batch_size * 2)\n",
    "    \n",
    "        model=model_dict[name_of_models[i]]\n",
    "        criterion=criterion_dict[name_of_criterions[i]]\n",
    "        optimizer=optimizer_dict[name_of_optimizers[i]]\n",
    "    \n",
    "        individual_loss, individual_accuracy = validation(model, test_dl, criterion)\n",
    "        main_loss, main_accuracy =validation(main_model, test_dl, main_criterion )\n",
    "    \n",
    "        accuracy_table.loc[i, \"sample\"]=\"sample \"+str(i)\n",
    "        accuracy_table.loc[i, \"local_ind_model\"] = individual_accuracy\n",
    "        accuracy_table.loc[i, \"merged_main_model\"] = main_accuracy\n",
    "\n",
    "    return accuracy_table"
   ]
  },
  {
   "cell_type": "code",
   "execution_count": 16,
   "metadata": {},
   "outputs": [],
   "source": [
    "'''trains individual local models in nodes.'''\n",
    "def start_train_end_node_process_print_some(number_of_samples, print_amount, x_train_dict, name_of_x_train_sets,\n",
    "                                            y_train_dict, name_of_y_train_sets, x_test_dict, name_of_x_test_sets,\n",
    "                                            y_test_dict, name_of_y_test_sets, model_dict, name_of_models, criterion_dict,\n",
    "                                            name_of_criterions, optimizer_dict, name_of_optimizers):\n",
    "    return start_train_end_node_process_print_some_for_these_parties(range(number_of_samples), print_amount, \n",
    "                                                                     x_train_dict, name_of_x_train_sets,\n",
    "                                                                     y_train_dict, name_of_y_train_sets, x_test_dict, name_of_x_test_sets,\n",
    "                                                                     y_test_dict, name_of_y_test_sets, model_dict, name_of_models, criterion_dict,\n",
    "                                                                     name_of_criterions, optimizer_dict, name_of_optimizers)\n",
    "\n",
    "def start_train_end_node_process_print_some_for_these_parties(parties, print_amount, x_train_dict, name_of_x_train_sets,\n",
    "                                            y_train_dict, name_of_y_train_sets, x_test_dict, name_of_x_test_sets,\n",
    "                                            y_test_dict, name_of_y_test_sets, model_dict, name_of_models, criterion_dict,\n",
    "                                            name_of_criterions, optimizer_dict, name_of_optimizers):\n",
    "    for i in parties: \n",
    "\n",
    "        train_ds = TensorDataset(x_train_dict[name_of_x_train_sets[i]], y_train_dict[name_of_y_train_sets[i]])\n",
    "        train_dl = DataLoader(train_ds, batch_size=batch_size, shuffle=True)\n",
    "\n",
    "        test_ds = TensorDataset(x_test_dict[name_of_x_test_sets[i]], y_test_dict[name_of_y_test_sets[i]])\n",
    "        test_dl = DataLoader(test_ds, batch_size= batch_size * 2)\n",
    "    \n",
    "        model=model_dict[name_of_models[i]]\n",
    "        criterion=criterion_dict[name_of_criterions[i]]\n",
    "        optimizer=optimizer_dict[name_of_optimizers[i]]\n",
    "    \n",
    "        if i<print_amount:\n",
    "            print(\"Subset\" ,i)\n",
    "            \n",
    "        for epoch in range(numEpoch):\n",
    "        \n",
    "            train_loss, train_accuracy = train(model, train_dl, criterion, optimizer)\n",
    "            test_loss, test_accuracy = validation(model, test_dl, criterion)\n",
    "            \n",
    "            if i<print_amount:        \n",
    "                print(\"epoch: {:3.0f}\".format(epoch+1) + \" | train accuracy: {:7.5f}\".format(train_accuracy) + \" | test accuracy: {:7.5f}\".format(test_accuracy))    "
   ]
  },
  {
   "cell_type": "code",
   "execution_count": 17,
   "metadata": {},
   "outputs": [],
   "source": [
    "x_train, y_train, x_valid, y_valid,x_test, y_test = map(\n",
    "    lambda dset: torch.tensor(dset, device=device), \n",
    "    (x_train, y_train, x_valid, y_valid, x_test, y_test)\n",
    ")\n",
    "\n",
    "centralized_criterion = nn.CrossEntropyLoss()\n",
    "\n",
    "number_of_samples=3 # also sets the number of parties for fedavg\n",
    "learning_rate = 0.01\n",
    "numEpoch = 10\n",
    "batch_size = 32\n",
    "momentum = 0.9\n",
    "\n",
    "train_amount = 100 if DEBUGGING_RUN_FAST else 4500\n",
    "valid_amount=900\n",
    "test_amount=900\n",
    "print_amount=4"
   ]
  },
  {
   "cell_type": "markdown",
   "metadata": {},
   "source": [
    "----------------\n",
    "\n",
    "### <span style=\"background-color:#F087F9\"> Normal (nonfederated) learning </span>\n"
   ]
  },
  {
   "cell_type": "code",
   "execution_count": 18,
   "metadata": {
    "jupyter": {
     "source_hidden": true
    },
    "tags": []
   },
   "outputs": [],
   "source": [
    "# centralized_model = Net2nn()\n",
    "# centralized_model.to(device)\n",
    "# centralized_optimizer = torch.optim.SGD(centralized_model.parameters(), lr=0.01, momentum=0.9)\n",
    "# centralized_criterion = nn.CrossEntropyLoss()\n",
    "\n",
    "# train_ds = TensorDataset(x_train, y_train)\n",
    "# train_dl = DataLoader(train_ds, batch_size=batch_size, shuffle=True)\n",
    "\n",
    "# valid_ds = TensorDataset(x_valid, y_valid)\n",
    "# valid_dl = DataLoader(valid_ds, batch_size=batch_size * 2)\n",
    "\n",
    "# test_ds = TensorDataset(x_test, y_test)\n",
    "# test_dl = DataLoader(test_ds, batch_size=batch_size * 2)\n",
    "\n",
    "# print(\"------ Centralized Model ------\")\n",
    "# for epoch in range(numEpoch):\n",
    "#     central_train_loss, central_train_accuracy = train(centralized_model, train_dl, centralized_criterion, centralized_optimizer)\n",
    "#     central_test_loss, central_test_accuracy = validation(centralized_model, test_dl, centralized_criterion)\n",
    "\n",
    "#     print(\"epoch: {:3.0f}\".format(epoch+1) + \" | train accuracy: {:7.4f}\".format(central_train_accuracy) + \" | test accuracy: {:7.4f}\".format(central_test_accuracy))\n",
    "\n",
    "# print(\"------ Training finished ------\")\n"
   ]
  },
  {
   "cell_type": "markdown",
   "metadata": {},
   "source": [
    "----------------\n",
    "\n",
    "### <span style=\"background-color:#F087F9\"> FedAvg </span>\n",
    "\n",
    "**Data is distributed to nodes**"
   ]
  },
  {
   "cell_type": "code",
   "execution_count": 19,
   "metadata": {},
   "outputs": [],
   "source": [
    "label_dict_train=split_and_shuffle_labels(y_data=y_train, seed=1, amount=train_amount) \n",
    "sample_dict_train=get_iid_subsamples_indices_imbalanced(label_dict=label_dict_train, number_of_samples=number_of_samples, amount=train_amount)\n",
    "x_train_dict, y_train_dict = create_iid_subsamples(sample_dict=sample_dict_train, x_data=x_train, y_data=y_train, x_name=\"x_train\", y_name=\"y_train\")\n",
    "\n",
    "\n",
    "label_dict_valid = split_and_shuffle_labels(y_data=y_valid, seed=1, amount=train_amount) \n",
    "sample_dict_valid = get_iid_subsamples_indices_imbalanced(label_dict=label_dict_valid, number_of_samples=number_of_samples, amount=valid_amount)\n",
    "x_valid_dict, y_valid_dict = create_iid_subsamples(sample_dict=sample_dict_valid, x_data=x_valid, y_data=y_valid, x_name=\"x_valid\", y_name=\"y_valid\")\n",
    "\n",
    "label_dict_test = split_and_shuffle_labels(y_data=y_test, seed=1, amount=test_amount) \n",
    "sample_dict_test = get_iid_subsamples_indices_imbalanced(label_dict=label_dict_test, number_of_samples=number_of_samples, amount=test_amount)\n",
    "x_test_dict, y_test_dict = create_iid_subsamples(sample_dict=sample_dict_test, x_data=x_test, y_data=y_test, x_name=\"x_test\", y_name=\"y_test\")"
   ]
  },
  {
   "cell_type": "code",
   "execution_count": 20,
   "metadata": {
    "jupyter": {
     "source_hidden": true
    },
    "tags": []
   },
   "outputs": [],
   "source": [
    "# print(x_train_dict[\"x_train1\"].shape, y_train_dict[\"y_train1\"].shape)\n",
    "# print(x_valid_dict[\"x_valid1\"].shape, y_valid_dict[\"y_valid1\"].shape) \n",
    "# print(x_test_dict[\"x_test1\"].shape, y_test_dict[\"y_test1\"].shape)\n",
    "\n",
    "# num_index = np.random.randint(test_amount/number_of_samples*10)\n",
    "# pyplot.imshow(x_test_dict[\"x_test0\"].clone().cpu()[num_index].reshape((28,28)), cmap=\"gray\")\n",
    "# print(y_test_dict[\"y_test0\"].clone().cpu()[num_index])"
   ]
  },
  {
   "cell_type": "markdown",
   "metadata": {},
   "source": [
    "**Main model is created**"
   ]
  },
  {
   "cell_type": "code",
   "execution_count": 21,
   "metadata": {
    "jupyter": {
     "source_hidden": true
    },
    "tags": []
   },
   "outputs": [],
   "source": [
    "# main_model = Net2nn()\n",
    "# main_model.to(device)\n",
    "# main_optimizer = torch.optim.SGD(main_model.parameters(), lr=learning_rate, momentum=0.9)\n",
    "# main_criterion = nn.CrossEntropyLoss()"
   ]
  },
  {
   "cell_type": "markdown",
   "metadata": {
    "tags": []
   },
   "source": [
    "**Models,optimizers and loss functions in nodes are defined**"
   ]
  },
  {
   "cell_type": "code",
   "execution_count": 22,
   "metadata": {},
   "outputs": [],
   "source": [
    "model_dict, optimizer_dict, criterion_dict = create_model_optimizer_criterion_dict(number_of_samples)"
   ]
  },
  {
   "cell_type": "markdown",
   "metadata": {},
   "source": [
    "**Keys of dicts are being made iterable**"
   ]
  },
  {
   "cell_type": "code",
   "execution_count": 23,
   "metadata": {},
   "outputs": [],
   "source": [
    "name_of_x_train_sets=list(x_train_dict.keys())\n",
    "name_of_y_train_sets=list(y_train_dict.keys())\n",
    "name_of_x_valid_sets=list(x_valid_dict.keys())\n",
    "name_of_y_valid_sets=list(y_valid_dict.keys())\n",
    "name_of_x_test_sets=list(x_test_dict.keys())\n",
    "name_of_y_test_sets=list(y_test_dict.keys())\n",
    "\n",
    "name_of_models=list(model_dict.keys())\n",
    "name_of_optimizers=list(optimizer_dict.keys())\n",
    "name_of_criterions=list(criterion_dict.keys())\n"
   ]
  },
  {
   "cell_type": "code",
   "execution_count": 24,
   "metadata": {
    "jupyter": {
     "source_hidden": true
    },
    "tags": []
   },
   "outputs": [],
   "source": [
    "# print(main_model.fc2.weight[0:1,0:5])\n",
    "# print(model_dict[\"model1\"].fc2.weight[0:1,0:5])"
   ]
  },
  {
   "cell_type": "markdown",
   "metadata": {},
   "source": [
    "**Parameters of main model are sent to nodes**  \n",
    "Since the parameters of the main model and parameters of all local models in the nodes are randomly initialized, all these parameters will be different from each other. For this reason, the main model sends its parameters to the nodes before the training of local models in the nodes begins. You can check the weights below."
   ]
  },
  {
   "cell_type": "code",
   "execution_count": 25,
   "metadata": {
    "jupyter": {
     "source_hidden": true
    },
    "tags": []
   },
   "outputs": [],
   "source": [
    "# model_dict=send_main_model_to_nodes_and_update_model_dict(main_model, model_dict, number_of_samples, name_of_models)"
   ]
  },
  {
   "cell_type": "code",
   "execution_count": 26,
   "metadata": {
    "jupyter": {
     "source_hidden": true
    },
    "tags": []
   },
   "outputs": [],
   "source": [
    "# print(main_model.fc2.weight[0:1,0:5])\n",
    "# print(model_dict[\"model1\"].fc2.weight[0:1,0:5])"
   ]
  },
  {
   "cell_type": "markdown",
   "metadata": {},
   "source": [
    "**Models in the nodes are trained**"
   ]
  },
  {
   "cell_type": "code",
   "execution_count": 27,
   "metadata": {
    "jupyter": {
     "source_hidden": true
    },
    "tags": []
   },
   "outputs": [],
   "source": [
    "# start_train_end_node_process_print_some(number_of_samples, print_amount, x_train_dict, name_of_x_train_sets,\n",
    "#                                             y_train_dict, name_of_y_train_sets, x_test_dict, name_of_x_test_sets,\n",
    "#                                             y_test_dict, name_of_y_test_sets, model_dict, name_of_models, criterion_dict,\n",
    "#                                             name_of_criterions, optimizer_dict, name_of_optimizers)"
   ]
  },
  {
   "cell_type": "code",
   "execution_count": 28,
   "metadata": {
    "jupyter": {
     "source_hidden": true
    },
    "tags": []
   },
   "outputs": [],
   "source": [
    "# ## As you can see, wieghts of local models are updated after training process\n",
    "# print(main_model.fc2.weight[0,0:5])\n",
    "# print(model_dict[\"model1\"].fc2.weight[0,0:5])"
   ]
  },
  {
   "cell_type": "markdown",
   "metadata": {
    "tags": []
   },
   "source": [
    "### Let's compare the performance of federated main model, individual local models and centralized model  \n",
    "\n",
    "**Federated main model vs individual local models before 1st iteration (on distributed test set)**  \n",
    "Since main model is randomly initialized and no action taken on it yet, its performance is very poor. Please before_acc_table"
   ]
  },
  {
   "cell_type": "code",
   "execution_count": 29,
   "metadata": {
    "jupyter": {
     "source_hidden": true
    },
    "tags": []
   },
   "outputs": [],
   "source": [
    "# before_acc_table=compare_local_and_merged_model_performance(number_of_samples=number_of_samples)\n",
    "# before_test_loss, before_test_accuracy = validation(main_model, test_dl, main_criterion)\n",
    "\n",
    "# main_model= set_averaged_weights_as_main_model_weights_and_update_main_model(main_model,model_dict, number_of_samples, name_of_models) \n",
    "\n",
    "# after_acc_table=compare_local_and_merged_model_performance(number_of_samples=number_of_samples)\n",
    "# after_test_loss, after_test_accuracy = validation(main_model, test_dl, main_criterion)"
   ]
  },
  {
   "cell_type": "code",
   "execution_count": 30,
   "metadata": {
    "jupyter": {
     "source_hidden": true
    },
    "tags": []
   },
   "outputs": [],
   "source": [
    "# print(\"Federated main model vs individual local models before FedAvg first iteration\")\n",
    "# before_acc_table.head()"
   ]
  },
  {
   "cell_type": "code",
   "execution_count": 31,
   "metadata": {
    "jupyter": {
     "source_hidden": true
    },
    "tags": []
   },
   "outputs": [],
   "source": [
    "# print(\"Federated main model vs individual local models after FedAvg first iteration\")\n",
    "# after_acc_table.head()"
   ]
  },
  {
   "cell_type": "markdown",
   "metadata": {
    "tags": []
   },
   "source": [
    "**Federated main model vs centralized model before 1st iteration (on all test data)**  \n",
    "Please be aware that the centralized model gets approximately %98 accuracy on all test data."
   ]
  },
  {
   "cell_type": "code",
   "execution_count": 32,
   "metadata": {
    "jupyter": {
     "source_hidden": true
    },
    "tags": []
   },
   "outputs": [],
   "source": [
    "# print(\"Before 1st iteration main model accuracy on all test data: {:7.4f}\".format(before_test_accuracy))\n",
    "# print(\"After 1st iteration main model accuracy on all test data: {:7.4f}\".format(after_test_accuracy))\n",
    "# print(\"Centralized model accuracy on all test data: {:7.4f}\".format(central_test_accuracy))"
   ]
  },
  {
   "cell_type": "markdown",
   "metadata": {},
   "source": [
    "This is a single iteration, we can send the weights of the main model back to the nodes and repeat the above steps.\n",
    "Now let's check how the performance of the main model improves when we repeat the iteration 10 more times."
   ]
  },
  {
   "cell_type": "code",
   "execution_count": 33,
   "metadata": {
    "jupyter": {
     "source_hidden": true
    },
    "tags": []
   },
   "outputs": [],
   "source": [
    "# for i in range(10):\n",
    "#     model_dict=send_main_model_to_nodes_and_update_model_dict(main_model, model_dict, number_of_samples, name_of_models)\n",
    "#     start_train_end_node_process_print_some(number_of_samples, -1, x_train_dict, name_of_x_train_sets,\n",
    "#                                             y_train_dict, name_of_y_train_sets, x_test_dict, name_of_x_test_sets,\n",
    "#                                             y_test_dict, name_of_y_test_sets, model_dict, name_of_models, criterion_dict,\n",
    "#                                             name_of_criterions, optimizer_dict, name_of_optimizers)\n",
    "#     main_model= set_averaged_weights_as_main_model_weights_and_update_main_model(main_model,model_dict, number_of_samples, name_of_models) \n",
    "#     test_loss, test_accuracy = validation(main_model, test_dl, main_criterion)\n",
    "#     print(\"Iteration\", str(i+2), \": main_model accuracy on all test data: {:7.4f}\".format(test_accuracy))   "
   ]
  },
  {
   "cell_type": "markdown",
   "metadata": {},
   "source": [
    "The accuracy of the centralized model was calculated as approximately 98%. The accuracy of the main model obtained by FedAvg method started from 85% and improved to 94%. In this case, we can say that although the main model obtained by FedAvg method was trained without seeing the data, its performance cannot be underestimated."
   ]
  },
  {
   "cell_type": "markdown",
   "metadata": {},
   "source": [
    "### <span style=\"background-color:#F087F9\"> Architecture change </span>\n",
    "\n",
    "**Preparing makeshift dataset**"
   ]
  },
  {
   "cell_type": "code",
   "execution_count": 34,
   "metadata": {},
   "outputs": [],
   "source": [
    "MAKESHIFT_DSET_SIZE = 2500 if DEBUGGING_RUN_FAST else 15000"
   ]
  },
  {
   "cell_type": "code",
   "execution_count": 35,
   "metadata": {},
   "outputs": [],
   "source": [
    "def get_gmm(X):\n",
    "    obs = np.array(X.cpu())\n",
    "    g_mixture = BayesianGaussianMixture(n_components=20, random_state=0, n_init=3, max_iter=5)\n",
    "    g_mixture.fit(obs)\n",
    "    return g_mixture\n",
    "\n",
    "def gmm_generate_data(gmm, num_points):\n",
    "    return torch.tensor(gmm.sample(num_points)[0], device=device, dtype=torch.float)"
   ]
  },
  {
   "cell_type": "code",
   "execution_count": 36,
   "metadata": {
    "jupyter": {
     "source_hidden": true
    },
    "tags": []
   },
   "outputs": [],
   "source": [
    "# gmms = []\n",
    "# for i in range(number_of_samples):\n",
    "#     gmms.append(get_gmm(x_train_dict[name_of_x_train_sets[i]]))"
   ]
  },
  {
   "cell_type": "code",
   "execution_count": 37,
   "metadata": {
    "jupyter": {
     "source_hidden": true
    },
    "tags": []
   },
   "outputs": [],
   "source": [
    "# all_samps = []\n",
    "\n",
    "# for i in range(number_of_samples):\n",
    "#     samps = gmm_generate_data(gmms[i], 10)\n",
    "#     all_samps.append(samps.reshape((280,28)).cpu())\n",
    "\n",
    "# pyplot.imshow(np.concatenate(all_samps, axis=1), cmap=\"gray\")"
   ]
  },
  {
   "cell_type": "code",
   "execution_count": 38,
   "metadata": {
    "jupyter": {
     "source_hidden": true
    },
    "tags": []
   },
   "outputs": [],
   "source": [
    "# # remember each party has their own makeshift dataset.\n",
    "\n",
    "# main_model.eval()\n",
    "# x_makeshift = []\n",
    "# y_makeshift = []\n",
    "\n",
    "# for i in range(number_of_samples):\n",
    "#     makeshift_dset_features = gmm_generate_data(gmms[i], MAKESHIFT_DSET_SIZE)\n",
    "#     makeshift_dset_labels = main_model(makeshift_dset_features).argmax(dim=1)\n",
    "#     x_makeshift.append(makeshift_dset_features)\n",
    "#     y_makeshift.append(makeshift_dset_labels)"
   ]
  },
  {
   "cell_type": "markdown",
   "metadata": {},
   "source": [
    "**functions for changing architecture**"
   ]
  },
  {
   "cell_type": "code",
   "execution_count": 39,
   "metadata": {},
   "outputs": [],
   "source": [
    "# '''\n",
    "# i'm assuming that layers_before_train are all regular Linear layers, while layers_to_train and layers_after_train are all single layer models.\n",
    "# so i'll apply relu after the layers_before_train. \n",
    "# '''\n",
    "# def train_some_layers(layers_before_train, layers_to_train, layers_after_train, party_index, x_makeshift, y_makeshift):\n",
    "    \n",
    "#     params_to_train = []\n",
    "    \n",
    "#     for layer in layers_before_train:\n",
    "#         layer.eval()\n",
    "        \n",
    "#     for layer in layers_to_train:\n",
    "#         layer.train()\n",
    "#         params_to_train += list(layer.parameters())\n",
    "        \n",
    "#     for layer in layers_after_train:\n",
    "#         layer.eval()\n",
    "        \n",
    "#     criterion = nn.CrossEntropyLoss()\n",
    "#     optimizer = torch.optim.SGD(params_to_train, lr=learning_rate, momentum=momentum)\n",
    "    \n",
    "#     train_ds = TensorDataset(x_makeshift[party_index], y_makeshift[party_index])\n",
    "#     train_dl = DataLoader(train_ds, batch_size=batch_size, shuffle=True)\n",
    "\n",
    "#     for data, target in train_dl:\n",
    "#         output = data\n",
    "        \n",
    "#         for layer in layers_before_train:\n",
    "#             output = layer(output)\n",
    "#             output = F.relu(output)\n",
    "#         for layer in layers_to_train:\n",
    "#             output = layer(output)\n",
    "#         for layer in layers_after_train:\n",
    "#             output = layer(output)\n",
    "        \n",
    "#         loss = criterion(output, target)\n",
    "#         optimizer.zero_grad()\n",
    "#         loss.backward()\n",
    "#         optimizer.step()\n",
    "\n",
    "        \n",
    "'''\n",
    "i'm assuming that layers_before_train are all regular Linear layers, while layers_to_train and layers_after_train are all single layer models.\n",
    "so i'll apply relu after the layers_before_train. \n",
    "'''\n",
    "def train_some_layers_other_way(layers_before_train, layers_to_train, layers_after_train, party_index, x_makeshift, y_makeshift):\n",
    "    \n",
    "    params_to_train = []\n",
    "    \n",
    "    for layer in layers_before_train:\n",
    "        layer.eval()\n",
    "        \n",
    "    for layer in layers_to_train:\n",
    "        layer.train()\n",
    "        params_to_train += list(layer.parameters())\n",
    "        \n",
    "    for layer in layers_after_train:\n",
    "        layer.eval()\n",
    "        \n",
    "    criterion = nn.CrossEntropyLoss()\n",
    "    optimizer = torch.optim.SGD(params_to_train, lr=learning_rate, momentum=momentum)\n",
    "    \n",
    "    train_ds = TensorDataset(x_makeshift[party_index], y_makeshift[party_index])\n",
    "    train_dl = DataLoader(train_ds, batch_size=batch_size, shuffle=True)\n",
    "\n",
    "    for data, target in train_dl:\n",
    "        output = data\n",
    "        \n",
    "        for layer in layers_before_train:\n",
    "            output = layer(output)\n",
    "        for layer in layers_to_train:\n",
    "            output = layer(output)\n",
    "        for l in range(len(layers_after_train)):\n",
    "            output = layers_after_train[l](output)\n",
    "            if l < len(layers_after_train)-1:\n",
    "                output = F.relu(output)\n",
    "        \n",
    "        loss = criterion(output, target)\n",
    "        optimizer.zero_grad()\n",
    "        loss.backward()\n",
    "        optimizer.step()\n",
    "\n"
   ]
  },
  {
   "cell_type": "markdown",
   "metadata": {
    "tags": []
   },
   "source": [
    "**change architecture (just as a test run)** \n",
    "\n",
    "these are proofs-of-concept to verify that our customization process works. we won't be using the customized models, but we're making customized models anyway to show that, yeah, my methodology does its job well enough."
   ]
  },
  {
   "cell_type": "code",
   "execution_count": 40,
   "metadata": {
    "jupyter": {
     "source_hidden": true
    },
    "tags": []
   },
   "outputs": [],
   "source": [
    "# '''\n",
    "# each layer is a new model.\n",
    "\n",
    "# original was        784 -> 200 -> 200 -> 10\n",
    "# p1 change to        784 -> 150 -> 100 -> 10\n",
    "\n",
    "# this will show that we can remove neurons.\n",
    "# '''\n",
    "\n",
    "# class Nn_p1_fc1(nn.Module):\n",
    "#     def __init__(self):\n",
    "#         super(Nn_p1_fc1, self).__init__()\n",
    "#         self.fc1=nn.Linear(784,150)\n",
    "        \n",
    "#     def forward(self,x):\n",
    "#         x=F.relu(self.fc1(x))\n",
    "#         return x\n",
    "    \n",
    "# class Nn_p1_fc2a(nn.Module):\n",
    "#     def __init__(self):\n",
    "#         super(Nn_p1_fc2a, self).__init__()\n",
    "#         self.fc2=nn.Linear(200,100)\n",
    "        \n",
    "#     def forward(self,x):\n",
    "#         x=F.relu(self.fc2(x))\n",
    "#         return x\n",
    "    \n",
    "# class Nn_p1_fc2b(nn.Module):\n",
    "#     def __init__(self):\n",
    "#         super(Nn_p1_fc2b, self).__init__()\n",
    "#         self.fc2=nn.Linear(150,100)\n",
    "        \n",
    "#     def forward(self,x):\n",
    "#         x=F.relu(self.fc2(x))\n",
    "#         return x\n",
    "    \n",
    "# class Nn_p1_fc3(nn.Module):\n",
    "#     def __init__(self):\n",
    "#         super(Nn_p1_fc3, self).__init__()\n",
    "#         self.fc3=nn.Linear(100,10)\n",
    "        \n",
    "#     def forward(self,x):\n",
    "#         x= self.fc3(x)\n",
    "#         return x\n",
    "    \n",
    "# p1_fc1 = Nn_p1_fc1()\n",
    "# p1_fc2a = Nn_p1_fc2a()\n",
    "# p1_fc2b = Nn_p1_fc2b()\n",
    "# p1_fc3 = Nn_p1_fc3()\n",
    "\n",
    "# p1_fc1.to(device)\n",
    "# p1_fc2a.to(device)\n",
    "# p1_fc2b.to(device)\n",
    "# p1_fc3.to(device)\n",
    "\n",
    "# # train fc2a (200->100), fc3 (100->10)\n",
    "# # after this the architecture will be 784 -> 200 -> 100 -> 10\n",
    "# train_some_layers(\n",
    "#     [main_model.fc1],\n",
    "#     [p1_fc2a, p1_fc3],\n",
    "#     [],\n",
    "#     0,\n",
    "#     x_makeshift,\n",
    "#     y_makeshift\n",
    "# )\n",
    "\n",
    "# # train fc1 (784->400), fc2b (400->100)\n",
    "# # after this the architecture will be 784 -> 150 -> 100 -> 10\n",
    "# train_some_layers(\n",
    "#     [],\n",
    "#     [p1_fc1, p1_fc2b],\n",
    "#     [p1_fc3],\n",
    "#     0,\n",
    "#     x_makeshift,\n",
    "#     y_makeshift\n",
    "# )\n",
    "\n",
    "# p1_model = nn.Sequential(p1_fc1,p1_fc2b,p1_fc3)"
   ]
  },
  {
   "cell_type": "code",
   "execution_count": 41,
   "metadata": {
    "jupyter": {
     "source_hidden": true
    },
    "tags": []
   },
   "outputs": [],
   "source": [
    "# '''\n",
    "# each layer is a new model.\n",
    "\n",
    "# original was        784 -> 200 -> 200 -> 10\n",
    "# p2 change to        784 -> 200 -> 10\n",
    "\n",
    "# this will show that we can remove entire layers\n",
    "# '''\n",
    "\n",
    "# class Nn_p2_fc1(nn.Module):\n",
    "#     def __init__(self):\n",
    "#         super(Nn_p2_fc1, self).__init__()\n",
    "#         self.fc1=nn.Linear(784,200)\n",
    "        \n",
    "#     def forward(self,x):\n",
    "#         x=F.relu(self.fc1(x))\n",
    "#         return x\n",
    "    \n",
    "# class Nn_p2_fc2(nn.Module):\n",
    "#     def __init__(self):\n",
    "#         super(Nn_p2_fc2, self).__init__()\n",
    "#         self.fc2=nn.Linear(200,10)\n",
    "        \n",
    "#     def forward(self,x):\n",
    "#         return x\n",
    "    \n",
    "# p2_fc1 = Nn_p2_fc1()\n",
    "# p2_fc2 = Nn_p2_fc2()\n",
    "# p2_fc1.to(device)\n",
    "# p2_fc2.to(device)\n",
    "\n",
    "# train_some_layers(\n",
    "#     [],\n",
    "#     [p2_fc1, p2_fc2],\n",
    "#     [],\n",
    "#     1,\n",
    "#     x_makeshift,\n",
    "#     y_makeshift\n",
    "# )\n",
    "\n",
    "# p2_model = nn.Sequential(p2_fc1, p2_fc2)"
   ]
  },
  {
   "cell_type": "markdown",
   "metadata": {},
   "source": [
    "**test the customized models against the central post-fusion model, on the parties' own test sets**"
   ]
  },
  {
   "cell_type": "code",
   "execution_count": 42,
   "metadata": {
    "jupyter": {
     "source_hidden": true
    },
    "tags": []
   },
   "outputs": [],
   "source": [
    "# main_model.eval()\n",
    "# p1_model.eval()\n",
    "# p2_model.eval()\n",
    "\n",
    "# p1_test_ds = TensorDataset(x_test_dict['x_test0'], y_test_dict['y_test0'])\n",
    "# p1_test_dl = DataLoader(p1_test_ds, batch_size= batch_size * 2)\n",
    "\n",
    "# p2_test_ds = TensorDataset(x_test_dict['x_test1'], y_test_dict['y_test1'])\n",
    "# p2_test_dl = DataLoader(p2_test_ds, batch_size= batch_size * 2)\n",
    "\n",
    "# # (main_model_loss, main_model_acc), (cust_model_loss, cust_model_acc)\n",
    "# print('p1', validation(main_model, p1_test_dl, centralized_criterion), validation(p1_model, p1_test_dl, centralized_criterion))\n",
    "# print('p2', validation(main_model, p2_test_dl, centralized_criterion), validation(p2_model, p2_test_dl, centralized_criterion))\n"
   ]
  },
  {
   "cell_type": "markdown",
   "metadata": {},
   "source": [
    "### <span style=\"background-color:#F087F9\"> Shapley </span>\n",
    "\n",
    "**calculate value of a set of parties**"
   ]
  },
  {
   "cell_type": "code",
   "execution_count": 43,
   "metadata": {},
   "outputs": [],
   "source": [
    "# To prevent confounding, we will make all parties use the same post-customization architecture.\n",
    "\n",
    "class Nn_fc1(nn.Module):\n",
    "    def __init__(self):\n",
    "        super(Nn_fc1, self).__init__()\n",
    "        self.fc1=nn.Linear(784,150)\n",
    "        \n",
    "    def forward(self,x):\n",
    "        x=F.relu(self.fc1(x))\n",
    "        return x\n",
    "    \n",
    "class Nn_fc2a_rev(nn.Module):\n",
    "    def __init__(self):\n",
    "        super(Nn_fc2a_rev, self).__init__()\n",
    "        self.fc2=nn.Linear(150, 200)\n",
    "        \n",
    "    def forward(self,x):\n",
    "        x=F.relu(self.fc2(x))\n",
    "        return x\n",
    "    \n",
    "class Nn_fc2a(nn.Module):\n",
    "    def __init__(self):\n",
    "        super(Nn_fc2a, self).__init__()\n",
    "        self.fc2=nn.Linear(200,100)\n",
    "        \n",
    "    def forward(self,x):\n",
    "        x=F.relu(self.fc2(x))\n",
    "        return x\n",
    "    \n",
    "class Nn_fc2b(nn.Module):\n",
    "    def __init__(self):\n",
    "        super(Nn_fc2b, self).__init__()\n",
    "        self.fc2=nn.Linear(150,100)\n",
    "        \n",
    "    def forward(self,x):\n",
    "        x=F.relu(self.fc2(x))\n",
    "        return x\n",
    "    \n",
    "class Nn_fc3(nn.Module):\n",
    "    def __init__(self):\n",
    "        super(Nn_fc3, self).__init__()\n",
    "        self.fc3=nn.Linear(100,10)\n",
    "        \n",
    "    def forward(self,x):\n",
    "        x= self.fc3(x)\n",
    "        return x"
   ]
  },
  {
   "cell_type": "code",
   "execution_count": 44,
   "metadata": {},
   "outputs": [],
   "source": [
    "# input: list of parties. output: performance of the parties' models on their own datasets.\n",
    "\n",
    "def perform_whole_fedavg_and_customization_for_these_parties(parties): \n",
    "    main_model = Net2nn()\n",
    "    main_model.to(device)\n",
    "    main_optimizer = torch.optim.SGD(main_model.parameters(), lr=learning_rate, momentum=0.9)\n",
    "    main_criterion = nn.CrossEntropyLoss()\n",
    "\n",
    "    model_dict, optimizer_dict, criterion_dict = create_model_optimizer_criterion_dict_for_these_parties(parties)\n",
    "\n",
    "    for i in range(10):\n",
    "        model_dict=send_main_model_to_nodes_and_update_model_dict_for_these_parties(main_model, model_dict, parties, name_of_models)\n",
    "        start_train_end_node_process_print_some_for_these_parties(parties, -1, x_train_dict, name_of_x_train_sets,\n",
    "                                                                    y_train_dict, name_of_y_train_sets, x_test_dict, name_of_x_test_sets,\n",
    "                                                                    y_test_dict, name_of_y_test_sets, model_dict, name_of_models, criterion_dict,\n",
    "                                                                    name_of_criterions, optimizer_dict, name_of_optimizers)\n",
    "        main_model= set_averaged_weights_as_main_model_weights_and_update_main_model_for_these_parties(main_model,model_dict, parties, name_of_models) \n",
    "        \n",
    "        # test_loss, test_accuracy = validation(main_model, test_dl, main_criterion)\n",
    "        # print(\"Iteration\", str(i+2), \": main_model accuracy on all test data: {:7.4f}\".format(test_accuracy))  \n",
    "   \n",
    "    gmms = [None, None, None]\n",
    "    \n",
    "    for i in [0,1,2]:\n",
    "        gmms[i] = get_gmm(x_train_dict[name_of_x_train_sets[i]])\n",
    "\n",
    "    # remember each party has their own makeshift dataset.\n",
    "    x_makeshift = [None, None, None]\n",
    "    y_makeshift = [None, None, None]\n",
    "    main_model.eval()\n",
    "    \n",
    "    rv = [None, None, None]\n",
    "\n",
    "    for i in [0,1,2]:\n",
    "        makeshift_dset_features = gmm_generate_data(gmms[i], MAKESHIFT_DSET_SIZE)\n",
    "        makeshift_dset_labels = main_model(makeshift_dset_features).argmax(dim=1)\n",
    "        x_makeshift[i] = makeshift_dset_features\n",
    "        y_makeshift[i] = makeshift_dset_labels\n",
    "\n",
    "        nn_fc1 = Nn_fc1()\n",
    "        nn_fc2a = Nn_fc2a()\n",
    "        nn_fc2a_rev = Nn_fc2a_rev()\n",
    "        nn_fc2b = Nn_fc2b()\n",
    "        nn_fc3 = Nn_fc3()\n",
    "        \n",
    "        nn_fc1.to(device)\n",
    "        nn_fc2a.to(device)\n",
    "        nn_fc2a_rev.to(device)\n",
    "        nn_fc2b.to(device)\n",
    "        nn_fc3.to(device)\n",
    "        train_some_layers_other_way(\n",
    "            [],\n",
    "            [nn_fc1, nn_fc2a_rev],\n",
    "            [main_model.fc3],\n",
    "            i, x_makeshift, y_makeshift\n",
    "        )\n",
    "        train_some_layers_other_way(\n",
    "            [nn_fc1],\n",
    "            [nn_fc2b, nn_fc3],\n",
    "            [],\n",
    "            i, x_makeshift, y_makeshift\n",
    "        )\n",
    "        customized_model = nn.Sequential(nn_fc1,nn_fc2b,nn_fc3)\n",
    "        customized_model.eval()\n",
    "        \n",
    "        # TODO testing should be done with makeshift dataset, not the real test set. fix it when/if you have the time. not a priority.\n",
    "        test_ds = TensorDataset(x_test_dict[name_of_x_test_sets[i]], y_test_dict[name_of_y_test_sets[i]])\n",
    "        test_dl = DataLoader(test_ds, batch_size= batch_size * 2)\n",
    "\n",
    "        validation_results = validation(customized_model, test_dl, centralized_criterion)\n",
    "        rv[i] = validation_results[1]\n",
    "        \n",
    "    return rv"
   ]
  },
  {
   "cell_type": "code",
   "execution_count": 45,
   "metadata": {
    "jupyter": {
     "source_hidden": true
    },
    "tags": []
   },
   "outputs": [],
   "source": [
    "# # test to make sure it runs with no error\n",
    "# [perform_whole_fedavg_and_customization_for_these_parties([0,1,2]),\n",
    "#  perform_whole_fedavg_and_customization_for_these_parties([0]),\n",
    "#  perform_whole_fedavg_and_customization_for_these_parties([2]),\n",
    "#  perform_whole_fedavg_and_customization_for_these_parties([1,2])\n",
    "# ]"
   ]
  },
  {
   "cell_type": "markdown",
   "metadata": {},
   "source": [
    "**actual shapley calculation stuff - diff label distribs (exp 1)**"
   ]
  },
  {
   "cell_type": "code",
   "execution_count": 46,
   "metadata": {
    "jupyter": {
     "source_hidden": true
    },
    "tags": []
   },
   "outputs": [],
   "source": [
    "# def my_sum(xs):\n",
    "#     rv = 0\n",
    "#     for x in xs:\n",
    "#         if x != None:\n",
    "#             rv += x\n",
    "#     return rv\n",
    "        \n",
    "# the_other_parties = [[1,2],[0,2],[0,1]]\n"
   ]
  },
  {
   "cell_type": "code",
   "execution_count": 47,
   "metadata": {
    "collapsed": true,
    "jupyter": {
     "outputs_hidden": true,
     "source_hidden": true
    },
    "tags": []
   },
   "outputs": [
    {
     "name": "stdout",
     "output_type": "stream",
     "text": [
      "0\n",
      "1\n",
      "2\n",
      "3\n",
      "4\n",
      "5\n",
      "6\n",
      "7\n",
      "8\n",
      "9\n",
      "10\n",
      "11\n",
      "12\n",
      "13\n",
      "14\n",
      "15\n",
      "16\n",
      "17\n",
      "18\n",
      "19\n",
      "20\n",
      "21\n",
      "22\n",
      "23\n",
      "24\n",
      "25\n",
      "26\n",
      "27\n",
      "28\n",
      "29\n",
      "30\n",
      "31\n",
      "32\n",
      "33\n",
      "34\n",
      "35\n",
      "36\n",
      "37\n",
      "38\n",
      "39\n",
      "40\n",
      "41\n",
      "42\n",
      "43\n",
      "44\n",
      "45\n",
      "46\n",
      "47\n",
      "48\n",
      "49\n"
     ]
    }
   ],
   "source": [
    "# results = []\n",
    "# for j in range(50):\n",
    "#     print(j)\n",
    "#     grand_coalition_value = my_sum(perform_whole_fedavg_and_customization_for_these_parties([0,1,2]))\n",
    "#     single_party_values = [\n",
    "#         my_sum(perform_whole_fedavg_and_customization_for_these_parties([party])) for party in [0,1,2]]\n",
    "#     two_party_values_indexed_by_missing_party = [\n",
    "#         my_sum(perform_whole_fedavg_and_customization_for_these_parties(the_other_parties[party])) for party in [0,1,2]]\n",
    "    \n",
    "#     iter_results = []\n",
    "#     for i in range(3): # let's say we wanna find shapley of party 0.\n",
    "#         total_marginal_contribution = 2 * single_party_values[i] # v([0]) - v([]). accounts for 012 and 021 permutations\n",
    "#         other_party_a, other_party_b = the_other_parties[i]\n",
    "#         total_marginal_contribution += (\n",
    "#             two_party_values_indexed_by_missing_party[other_party_a] - single_party_values[other_party_b]) # v([0,1]) - v([1]). 102 permutation\n",
    "#         total_marginal_contribution += (\n",
    "#             two_party_values_indexed_by_missing_party[other_party_b] - single_party_values[other_party_a]) # v([0,2]) - v([2]). 201 permutation\n",
    "#         total_marginal_contribution += 2 * (\n",
    "#             grand_coalition_value - two_party_values_indexed_by_missing_party[i]) # v([0,1,2]) - v([1,2]). 210, 120 permutations\n",
    "#         iter_results.append(total_marginal_contribution / 6)\n",
    "#     results.append(iter_results)\n"
   ]
  },
  {
   "cell_type": "code",
   "execution_count": 48,
   "metadata": {
    "collapsed": true,
    "jupyter": {
     "outputs_hidden": true,
     "source_hidden": true
    },
    "tags": []
   },
   "outputs": [
    {
     "name": "stdout",
     "output_type": "stream",
     "text": [
      "[[0.5338829471182411, 0.5485822935234699, 0.5122759952465835, 0.5300254010695188, 0.5267112299465241, 0.5352505941770648, 0.5219900475341652, 0.5280427807486632, 0.5434800950683304, 0.5297207367795603, 0.5205720439691028, 0.5507459893048129, 0.5460035650623888, 0.5234147355912061, 0.5424994058229354, 0.5363342245989305, 0.5266405228758171, 0.5308912655971478, 0.5357234105763518, 0.516904486036839, 0.5272658942364826, 0.5253810160427806, 0.5475805109922759, 0.5421130421865716, 0.5318896316102198, 0.5195240641711232, 0.5571470588235294, 0.5384481580510991, 0.5563340760546643, 0.5454747474747477, 0.5264636066547833, 0.5331534462269756, 0.538670974450386, 0.531829916815211, 0.535119429590018, 0.5180077243018418, 0.529711229946524, 0.538961229946524, 0.5346176470588236, 0.5264894533571004, 0.5276486928104575, 0.5396139334521688, 0.5241446821152705, 0.5331433452168749, 0.53974376114082, 0.5259310754604872, 0.5228055555555554, 0.5347624777183603, 0.5439708853238264, 0.5168927510398098], [0.8786926619132501, 0.8855800653594771, 0.8885170825906119, 0.8893872549019606, 0.8908872549019607, 0.8818624480095071, 0.8833349673202613, 0.8815601604278075, 0.8794399881164586, 0.8810522875816996, 0.8807703505644681, 0.8790204991087344, 0.8908431372549019, 0.8812560903149137, 0.8826527035056445, 0.8868373440285205, 0.8840090612002376, 0.8701680035650625, 0.8854087938205586, 0.8871224004753416, 0.8876299762329176, 0.8965797682709448, 0.8698456625074272, 0.8617404931669638, 0.895236779560309, 0.9056007130124777, 0.9055129233511585, 0.902153149138443, 0.8553920083184788, 0.8839484551396319, 0.8936819667260845, 0.8826712715389186, 0.8779976232917407, 0.8823334818775995, 0.8944817290552586, 0.880041146761735, 0.8912326203208556, 0.881922905525847, 0.874600267379679, 0.8786440879382056, 0.8843305109922756, 0.8856170528817585, 0.8783220439691027, 0.891007872846108, 0.8957384135472372, 0.8857804515745692, 0.8711330956625073, 0.8674126559714797, 0.9170163398692811, 0.8774252822341057], [1.0429778669043375, 1.0428091206179444, 1.066775549613785, 1.0401194295900178, 1.050979055258467, 1.047788918597742, 1.0375466428995839, 1.0366216577540104, 1.0553704693998813, 1.0384408793820559, 1.039820707070707, 1.049161319073084, 1.0434117647058825, 1.0301642899584076, 1.0430724896019015, 1.04776247771836, 1.037885175282234, 1.0498016934046346, 1.0301146761734994, 1.0411781045751636, 1.0336674093879978, 1.0319545454545453, 1.0518278371954841, 1.041010101010101, 1.0264377599524657, 1.047471479500891, 1.0754282531194297, 1.059731134878194, 1.0475439691027926, 1.0448655674390965, 1.0373891859774214, 1.0454016636957812, 1.0519116161616162, 1.0367225193107548, 1.0453435828877005, 1.0310964052287581, 1.018923351158645, 1.043019607843137, 1.0429942067736186, 1.0343940879382054, 1.0392231134878194, 1.053711972667855, 1.0487462863933452, 1.0337204396910278, 1.0324367201426026, 1.0321610219845514, 1.055266339869281, 1.0440173796791443, 1.0346651812240046, 1.0348138740344621]]\n"
     ]
    }
   ],
   "source": [
    "# # these are actly the shapley ntu values too.\n",
    "# rearranged_results = [[],[],[]]\n",
    "\n",
    "# for result in results:\n",
    "#     for i in range(3):\n",
    "#         rearranged_results[i].append(result[i])\n",
    "        \n",
    "# print(rearranged_results)"
   ]
  },
  {
   "cell_type": "code",
   "execution_count": 49,
   "metadata": {
    "jupyter": {
     "source_hidden": true
    },
    "tags": []
   },
   "outputs": [],
   "source": [
    "# with open('exp1_results', 'wb') as f:\n",
    "#     pickle.dump(rearranged_results, f)"
   ]
  },
  {
   "cell_type": "code",
   "execution_count": 50,
   "metadata": {
    "collapsed": true,
    "jupyter": {
     "outputs_hidden": true,
     "source_hidden": true
    },
    "tags": []
   },
   "outputs": [
    {
     "data": {
      "image/png": "[encoded data removed]",
      "text/plain": [
       "<Figure size 432x288 with 1 Axes>"
      ]
     },
     "metadata": {
      "needs_background": "light"
     },
     "output_type": "display_data"
    }
   ],
   "source": [
    "# plt.boxplot(rearranged_results)\n",
    "# plt.xticks(range(1,4), ['0','1','2'])\n",
    "# plt.suptitle('Distribution of Shapley-NTU contribution against party index')\n",
    "# plt.xlabel('Party index')\n",
    "# plt.ylabel('Shapley-NTU contribution')\n",
    "# plt.show()\n"
   ]
  },
  {
   "cell_type": "code",
   "execution_count": 51,
   "metadata": {
    "collapsed": true,
    "jupyter": {
     "outputs_hidden": true,
     "source_hidden": true
    },
    "tags": []
   },
   "outputs": [
    {
     "name": "stdout",
     "output_type": "stream",
     "text": [
      "[0.5330506357694593, 0.8844686660724896, 1.0425539780154487]\n",
      "[0.010147035030482515, 0.010735853795260228, 0.010035033016787301]\n",
      "[0.5325164884135474, 0.8836417112299466, 1.042893493761141]\n"
     ]
    }
   ],
   "source": [
    "# print([np.mean(r) for r in rearranged_results])\n",
    "# print([np.std(r) for r in rearranged_results])\n",
    "# print([np.median(r) for r in rearranged_results])"
   ]
  },
  {
   "cell_type": "code",
   "execution_count": 52,
   "metadata": {
    "collapsed": true,
    "jupyter": {
     "outputs_hidden": true,
     "source_hidden": true
    },
    "tags": []
   },
   "outputs": [
    {
     "name": "stdout",
     "output_type": "stream",
     "text": [
      "(-166.52288721395692, 0.0)\n",
      "(-75.3012966081931, 0.0)\n",
      "(-249.91235175946852, 0.0)\n"
     ]
    }
   ],
   "source": [
    "# print(statsmodels.stats.weightstats.ztest(rearranged_results[0], x2=rearranged_results[1], value=0))\n",
    "# print(statsmodels.stats.weightstats.ztest(rearranged_results[1], x2=rearranged_results[2], value=0))\n",
    "# print(statsmodels.stats.weightstats.ztest(rearranged_results[0], x2=rearranged_results[2], value=0))"
   ]
  },
  {
   "cell_type": "markdown",
   "metadata": {},
   "source": [
    "**swapping one layer at a time beats retraining the whole model (exp 2)**"
   ]
  },
  {
   "cell_type": "code",
   "execution_count": 53,
   "metadata": {
    "jupyter": {
     "source_hidden": true
    },
    "tags": []
   },
   "outputs": [],
   "source": [
    "# '''\n",
    "# same as the earlier method except we don't swap layers. we retrain a whole new model from scratch.\n",
    "# '''\n",
    "# def perform_whole_fedavg_and_customization_for_these_parties_retrain_whole_model(parties): \n",
    "#     main_model = Net2nn()\n",
    "#     main_model.to(device)\n",
    "#     main_optimizer = torch.optim.SGD(main_model.parameters(), lr=learning_rate, momentum=0.9)\n",
    "#     main_criterion = nn.CrossEntropyLoss()\n",
    "\n",
    "#     model_dict, optimizer_dict, criterion_dict = create_model_optimizer_criterion_dict_for_these_parties(parties)\n",
    "\n",
    "#     for i in range(10):\n",
    "#         model_dict=send_main_model_to_nodes_and_update_model_dict_for_these_parties(main_model, model_dict, parties, name_of_models)\n",
    "#         start_train_end_node_process_print_some_for_these_parties(parties, -1, x_train_dict, name_of_x_train_sets,\n",
    "#                                                                     y_train_dict, name_of_y_train_sets, x_test_dict, name_of_x_test_sets,\n",
    "#                                                                     y_test_dict, name_of_y_test_sets, model_dict, name_of_models, criterion_dict,\n",
    "#                                                                     name_of_criterions, optimizer_dict, name_of_optimizers)\n",
    "#         main_model= set_averaged_weights_as_main_model_weights_and_update_main_model_for_these_parties(main_model,model_dict, parties, name_of_models) \n",
    "        \n",
    "#         # test_loss, test_accuracy = validation(main_model, test_dl, main_criterion)\n",
    "#         # print(\"Iteration\", str(i+2), \": main_model accuracy on all test data: {:7.4f}\".format(test_accuracy))  \n",
    "   \n",
    "#     gmms = [None, None, None]\n",
    "    \n",
    "#     for i in [0,1,2]:\n",
    "#         gmms[i] = get_gmm(x_train_dict[name_of_x_train_sets[i]])\n",
    "\n",
    "#     # remember each party has their own makeshift dataset.\n",
    "#     x_makeshift = [None, None, None]\n",
    "#     y_makeshift = [None, None, None]\n",
    "#     main_model.eval()\n",
    "    \n",
    "#     rv = [None, None, None]\n",
    "\n",
    "#     for i in [0,1,2]:\n",
    "#         makeshift_dset_features = gmm_generate_data(gmms[i], MAKESHIFT_DSET_SIZE)\n",
    "#         makeshift_dset_labels = main_model(makeshift_dset_features).argmax(dim=1)\n",
    "#         x_makeshift[i] = makeshift_dset_features\n",
    "#         y_makeshift[i] = makeshift_dset_labels\n",
    "\n",
    "#         nn_fc1 = Nn_fc1()\n",
    "#         nn_fc2b = Nn_fc2b()\n",
    "#         nn_fc3 = Nn_fc3()\n",
    "        \n",
    "#         nn_fc1.to(device)\n",
    "#         nn_fc2b.to(device)\n",
    "#         nn_fc3.to(device)\n",
    "\n",
    "#         train_some_layers_other_way(\n",
    "#             [],\n",
    "#             [nn_fc1, nn_fc2b, nn_fc3],\n",
    "#             [],\n",
    "#             i, x_makeshift, y_makeshift\n",
    "#         )\n",
    "\n",
    "#         customized_model = nn.Sequential(nn_fc1,nn_fc2b,nn_fc3)\n",
    "#         customized_model.eval()\n",
    "        \n",
    "#         # TODO testing should be done with makeshift dataset, not the real test set. fix it when/if you have the time. not a priority.\n",
    "#         test_ds = TensorDataset(x_test_dict[name_of_x_test_sets[i]], y_test_dict[name_of_y_test_sets[i]])\n",
    "#         test_dl = DataLoader(test_ds, batch_size= batch_size * 2)\n",
    "\n",
    "#         validation_results = validation(customized_model, test_dl, centralized_criterion)\n",
    "#         rv[i] = validation_results[1]\n",
    "        \n",
    "#     return rv"
   ]
  },
  {
   "cell_type": "code",
   "execution_count": 54,
   "metadata": {
    "jupyter": {
     "source_hidden": true
    },
    "tags": []
   },
   "outputs": [],
   "source": [
    "# train_layer_by_layer_val_results = []\n",
    "# retrain_whole_model_val_results = []\n",
    "\n",
    "# for i in range(30):\n",
    "#     print(i,end=' ')\n",
    "#     train_layer_by_layer_val_results.append(perform_whole_fedavg_and_customization_for_these_parties([0,1,2]))\n",
    "#     retrain_whole_model_val_results.append(perform_whole_fedavg_and_customization_for_these_parties_retrain_whole_model([0,1,2]))"
   ]
  },
  {
   "cell_type": "code",
   "execution_count": 55,
   "metadata": {
    "jupyter": {
     "source_hidden": true
    },
    "tags": []
   },
   "outputs": [],
   "source": [
    "# print(train_layer_by_layer_val_results)\n",
    "# print(retrain_whole_model_val_results)"
   ]
  },
  {
   "cell_type": "code",
   "execution_count": 56,
   "metadata": {
    "jupyter": {
     "source_hidden": true
    },
    "tags": []
   },
   "outputs": [],
   "source": [
    "# nicer_results = [\n",
    "#     list(map(lambda x: x[0], train_layer_by_layer_val_results)),\n",
    "#     list(map(lambda x: x[0], retrain_whole_model_val_results)),\n",
    "#     list(map(lambda x: x[1], train_layer_by_layer_val_results)),\n",
    "#     list(map(lambda x: x[1], retrain_whole_model_val_results)),\n",
    "#     list(map(lambda x: x[2], train_layer_by_layer_val_results)),\n",
    "#     list(map(lambda x: x[2], retrain_whole_model_val_results)),\n",
    "# ]\n",
    "\n",
    "# plt.boxplot(nicer_results)\n",
    "\n",
    "# plt.xticks(range(1,7), ['0L','0M','1L','1M','2L','2M'])\n",
    "# plt.suptitle('Validation accuracies with different training methods')\n",
    "# plt.xlabel('Party index and training method (L=layer, M=model)')\n",
    "# plt.ylabel('Validation accuracy')\n",
    "# plt.show()"
   ]
  },
  {
   "cell_type": "code",
   "execution_count": 57,
   "metadata": {
    "jupyter": {
     "source_hidden": true
    },
    "tags": []
   },
   "outputs": [],
   "source": [
    "# with open('exp2_results', 'wb') as f:\n",
    "#     pickle.dump(nicer_results, f)"
   ]
  },
  {
   "cell_type": "code",
   "execution_count": 58,
   "metadata": {
    "jupyter": {
     "source_hidden": true
    },
    "tags": []
   },
   "outputs": [],
   "source": [
    "# print([np.mean(r) for r in nicer_results])\n",
    "# print([np.std(r) for r in nicer_results])\n",
    "# print([np.median(r) for r in nicer_results])"
   ]
  },
  {
   "cell_type": "code",
   "execution_count": 59,
   "metadata": {
    "jupyter": {
     "source_hidden": true
    },
    "tags": []
   },
   "outputs": [],
   "source": [
    "# print(statsmodels.stats.weightstats.ztest(nicer_results[0], x2=nicer_results[1], value=0))\n",
    "# print(statsmodels.stats.weightstats.ztest(nicer_results[2], x2=nicer_results[3], value=0))\n",
    "# print(statsmodels.stats.weightstats.ztest(nicer_results[4], x2=nicer_results[5], value=0))"
   ]
  },
  {
   "cell_type": "markdown",
   "metadata": {
    "tags": []
   },
   "source": [
    "**demonstrating our early stopping \"binary search\" (exp 3)**\n",
    "\n",
    "strictly for all parties, not just a subset. cuz when we reduce the performance, we only do it at the end for the final reward model. and that model is always made with all parties' help. but that final model will only be the one pertaining to party 0 cuz their problem is easy."
   ]
  },
  {
   "cell_type": "code",
   "execution_count": 60,
   "metadata": {
    "jupyter": {
     "source_hidden": true
    },
    "tags": []
   },
   "outputs": [],
   "source": [
    "# EPSILON = 1 # how much performance difference we can tolerate\n",
    "\n",
    "# # performance refers to actual validation accuracy. returns how the accuracy has changed (for the \"binary search\")\n",
    "# # to get the performance within +-epsilon% of the target. \n",
    "# def perform_whole_fedavg_and_customization_for_party_0_with_this_performance(performance):\n",
    "#     parties = range(3)\n",
    "#     main_model = Net2nn()\n",
    "#     main_model.to(device)\n",
    "#     main_optimizer = torch.optim.SGD(main_model.parameters(), lr=learning_rate, momentum=0.9)\n",
    "#     main_criterion = nn.CrossEntropyLoss()\n",
    "\n",
    "#     model_dict, optimizer_dict, criterion_dict = create_model_optimizer_criterion_dict_for_these_parties(parties)\n",
    "\n",
    "#     for i in range(10):\n",
    "#         model_dict=send_main_model_to_nodes_and_update_model_dict_for_these_parties(main_model, model_dict, parties, name_of_models)\n",
    "#         start_train_end_node_process_print_some_for_these_parties(parties, -1, x_train_dict, name_of_x_train_sets,\n",
    "#                                                                     y_train_dict, name_of_y_train_sets, x_test_dict, name_of_x_test_sets,\n",
    "#                                                                     y_test_dict, name_of_y_test_sets, model_dict, name_of_models, criterion_dict,\n",
    "#                                                                     name_of_criterions, optimizer_dict, name_of_optimizers)\n",
    "#         main_model= set_averaged_weights_as_main_model_weights_and_update_main_model_for_these_parties(main_model,model_dict, parties, name_of_models) \n",
    "        \n",
    "#         # test_loss, test_accuracy = validation(main_model, test_dl, main_criterion)\n",
    "#         # print(\"Iteration\", str(i+2), \": main_model accuracy on all test data: {:7.4f}\".format(test_accuracy))  \n",
    "   \n",
    "#     gmm = get_gmm(x_train_dict[name_of_x_train_sets[0]])\n",
    "#     main_model.eval()\n",
    "    \n",
    "#     acc_changes = []\n",
    "\n",
    "#     makeshift_dset_features = gmm_generate_data(gmm, MAKESHIFT_DSET_SIZE)\n",
    "#     makeshift_dset_labels = main_model(makeshift_dset_features).argmax(dim=1)\n",
    "#     x_makeshift = makeshift_dset_features\n",
    "#     y_makeshift = makeshift_dset_labels\n",
    "\n",
    "#     adjusted_lr = learning_rate\n",
    "#     adjusted_lr_bounds = [0, learning_rate * 2]\n",
    "\n",
    "#     while(True):\n",
    "\n",
    "#         nn_fc1 = Nn_fc1()\n",
    "#         nn_fc2a = Nn_fc2a()\n",
    "#         nn_fc2b = Nn_fc2b()\n",
    "#         nn_fc3 = Nn_fc3()\n",
    "\n",
    "#         nn_fc1.to(device)\n",
    "#         nn_fc2a.to(device)\n",
    "#         nn_fc2b.to(device)\n",
    "#         nn_fc3.to(device)\n",
    "\n",
    "#         train_some_layers_lr(\n",
    "#             [main_model.fc1],\n",
    "#             [nn_fc2a, nn_fc3],\n",
    "#             [],\n",
    "#             0, x_makeshift, y_makeshift,\n",
    "#             adjusted_lr\n",
    "#         )\n",
    "\n",
    "#         train_some_layers_lr(\n",
    "#             [],\n",
    "#             [nn_fc1, nn_fc2b],\n",
    "#             [nn_fc3],\n",
    "#             0, x_makeshift, y_makeshift,\n",
    "#             adjusted_lr\n",
    "#         )\n",
    "\n",
    "#         customized_model = nn.Sequential(nn_fc1,nn_fc2b,nn_fc3)\n",
    "#         customized_model.eval()\n",
    "\n",
    "#         test_ds = TensorDataset(x_test_dict[name_of_x_test_sets[0]], y_test_dict[name_of_y_test_sets[0]])\n",
    "#         test_dl = DataLoader(test_ds, batch_size= batch_size * 2)\n",
    "\n",
    "#         validation_acc = validation(customized_model, test_dl, centralized_criterion)[1]\n",
    "#         acc_changes.append(validation_acc)\n",
    "\n",
    "#         if abs(validation_acc - performance) < (EPSILON/100):\n",
    "#             break\n",
    "#         elif validation_acc > performance:\n",
    "#             adjusted_lr_bounds[1] = adjusted_lr\n",
    "#             adjusted_lr = sum(adjusted_lr_bounds) / 2\n",
    "#         else:\n",
    "#             adjusted_lr_bounds[0] = adjusted_lr\n",
    "#             adjusted_lr = sum(adjusted_lr_bounds) / 2\n",
    "\n",
    "#     return acc_changes\n",
    "\n",
    "# def train_some_layers_lr(layers_before_train, layers_to_train, layers_after_train, party_index, x_makeshift, y_makeshift, lr):\n",
    "    \n",
    "#     params_to_train = []\n",
    "    \n",
    "#     for layer in layers_before_train:\n",
    "#         layer.eval()\n",
    "        \n",
    "#     for layer in layers_to_train:\n",
    "#         layer.train()\n",
    "#         params_to_train += list(layer.parameters())\n",
    "        \n",
    "#     for layer in layers_after_train:\n",
    "#         layer.eval()\n",
    "        \n",
    "#     criterion = nn.CrossEntropyLoss()\n",
    "#     optimizer = torch.optim.SGD(params_to_train, lr=lr, momentum=momentum)\n",
    "    \n",
    "#     train_ds = TensorDataset(x_makeshift, y_makeshift)\n",
    "#     train_dl = DataLoader(train_ds, batch_size=batch_size, shuffle=True)\n",
    "\n",
    "#     for data, target in train_dl:\n",
    "#         output = data\n",
    "        \n",
    "#         for layer in layers_before_train:\n",
    "#             output = layer(output)\n",
    "#             output = F.relu(output)\n",
    "#         for layer in layers_to_train:\n",
    "#             output = layer(output)\n",
    "#         for layer in layers_after_train:\n",
    "#             output = layer(output)\n",
    "        \n",
    "#         loss = criterion(output, target)\n",
    "#         optimizer.zero_grad()\n",
    "#         loss.backward()\n",
    "#         optimizer.step()"
   ]
  },
  {
   "cell_type": "code",
   "execution_count": 61,
   "metadata": {
    "jupyter": {
     "source_hidden": true
    },
    "tags": []
   },
   "outputs": [],
   "source": [
    "# results = []\n",
    "# for i in range(5,100,5):\n",
    "#     print(i)\n",
    "#     next_res = []\n",
    "#     results.append(next_res)\n",
    "#     for i in range(10):\n",
    "#         next_res.append(len(perform_whole_fedavg_and_customization_for_party_0_with_this_performance(i/100)))"
   ]
  },
  {
   "cell_type": "code",
   "execution_count": 62,
   "metadata": {
    "jupyter": {
     "source_hidden": true
    },
    "tags": []
   },
   "outputs": [],
   "source": [
    "# results"
   ]
  },
  {
   "cell_type": "code",
   "execution_count": 63,
   "metadata": {
    "jupyter": {
     "source_hidden": true
    },
    "tags": []
   },
   "outputs": [],
   "source": [
    "# plt.boxplot(results)\n",
    "# plt.xticks(range(1,20), range(5,100,5))\n",
    "# plt.suptitle('Iterations required to achieve target performance +-1 (%)')\n",
    "# plt.xlabel('Target performance (%)')\n",
    "# plt.ylabel('Iterations required')\n",
    "# plt.show()"
   ]
  },
  {
   "cell_type": "markdown",
   "metadata": {},
   "source": [
    "**testing back to front swapping vs front to back swapping (exp 4)**"
   ]
  },
  {
   "cell_type": "code",
   "execution_count": 64,
   "metadata": {
    "jupyter": {
     "source_hidden": true
    },
    "tags": []
   },
   "outputs": [],
   "source": [
    "# '''\n",
    "# ur task is to make this train forwards AND backwards. just get one fused model (fedavg once is enough) and do the \n",
    "# changing 4wards and backwards on this same model. then return val accs. repeat.\n",
    "# might wanna make more complex architecture for demonstration purposes. \n",
    "# '''\n",
    "\n",
    "# def perform_whole_fedavg_and_customization_for_all_parties_both_directions(): \n",
    "#     parties = [0,1,2]\n",
    "#     main_model = Net2nn()\n",
    "#     main_model.to(device)\n",
    "#     main_optimizer = torch.optim.SGD(main_model.parameters(), lr=learning_rate, momentum=0.9)\n",
    "#     main_criterion = nn.CrossEntropyLoss()\n",
    "\n",
    "#     model_dict, optimizer_dict, criterion_dict = create_model_optimizer_criterion_dict_for_these_parties(parties)\n",
    "\n",
    "#     for i in range(10):\n",
    "#         model_dict=send_main_model_to_nodes_and_update_model_dict_for_these_parties(main_model, model_dict, parties, name_of_models)\n",
    "#         start_train_end_node_process_print_some_for_these_parties(parties, -1, x_train_dict, name_of_x_train_sets,\n",
    "#                                                                     y_train_dict, name_of_y_train_sets, x_test_dict, name_of_x_test_sets,\n",
    "#                                                                     y_test_dict, name_of_y_test_sets, model_dict, name_of_models, criterion_dict,\n",
    "#                                                                     name_of_criterions, optimizer_dict, name_of_optimizers)\n",
    "#         main_model= set_averaged_weights_as_main_model_weights_and_update_main_model_for_these_parties(main_model,model_dict, parties, name_of_models) \n",
    "        \n",
    "#         # test_loss, test_accuracy = validation(main_model, test_dl, main_criterion)\n",
    "#         # print(\"Iteration\", str(i+2), \": main_model accuracy on all test data: {:7.4f}\".format(test_accuracy))  \n",
    "   \n",
    "#     gmms = [None, None, None]\n",
    "    \n",
    "#     for i in [0,1,2]:\n",
    "#         gmms[i] = get_gmm(x_train_dict[name_of_x_train_sets[i]])\n",
    "\n",
    "#     # remember each party has their own makeshift dataset.\n",
    "#     x_makeshift = [None, None, None]\n",
    "#     y_makeshift = [None, None, None]\n",
    "#     main_model.eval()\n",
    "    \n",
    "#     rv = [[None, None], [None, None], [None, None]]\n",
    "\n",
    "#     for i in [0,1,2]:\n",
    "#         makeshift_dset_features = gmm_generate_data(gmms[i], MAKESHIFT_DSET_SIZE)\n",
    "#         makeshift_dset_labels = main_model(makeshift_dset_features).argmax(dim=1)\n",
    "#         x_makeshift[i] = makeshift_dset_features\n",
    "#         y_makeshift[i] = makeshift_dset_labels\n",
    "        \n",
    "#         for direction in [0,1]: # 0 = normal, 1 = reversed.\n",
    "#             nn_fc1 = Nn_fc1()\n",
    "#             nn_fc2a = Nn_fc2a()\n",
    "#             nn_fc2a_rev = Nn_fc2a_rev()\n",
    "#             nn_fc2b = Nn_fc2b()\n",
    "#             nn_fc3 = Nn_fc3()\n",
    "\n",
    "#             nn_fc1.to(device)\n",
    "#             nn_fc2a.to(device)\n",
    "#             nn_fc2a_rev.to(device)\n",
    "#             nn_fc2b.to(device)\n",
    "#             nn_fc3.to(device)\n",
    "\n",
    "#             if direction == 0:\n",
    "#                 train_some_layers(\n",
    "#                     [main_model.fc1],\n",
    "#                     [nn_fc2a, nn_fc3],\n",
    "#                     [],\n",
    "#                     i, x_makeshift, y_makeshift\n",
    "#                 )\n",
    "#                 train_some_layers(\n",
    "#                     [],\n",
    "#                     [nn_fc1, nn_fc2b],\n",
    "#                     [nn_fc3],\n",
    "#                     i, x_makeshift, y_makeshift\n",
    "#                 )\n",
    "#             elif direction == 1:\n",
    "#                 train_some_layers_other_way(\n",
    "#                     [],\n",
    "#                     [nn_fc1, nn_fc2a_rev],\n",
    "#                     [main_model.fc3],\n",
    "#                     i, x_makeshift, y_makeshift\n",
    "#                 )\n",
    "#                 train_some_layers_other_way(\n",
    "#                     [nn_fc1],\n",
    "#                     [nn_fc2b, nn_fc3],\n",
    "#                     [],\n",
    "#                     i, x_makeshift, y_makeshift\n",
    "#                 )\n",
    "\n",
    "#             customized_model = nn.Sequential(nn_fc1,nn_fc2b,nn_fc3)\n",
    "#             customized_model.eval()\n",
    "\n",
    "#             # TODO testing should be done with makeshift dataset, not the real test set. fix it when/if you have the time. not a priority.\n",
    "#             test_ds = TensorDataset(x_test_dict[name_of_x_test_sets[i]], y_test_dict[name_of_y_test_sets[i]])\n",
    "#             test_dl = DataLoader(test_ds, batch_size= batch_size * 2)\n",
    "\n",
    "#             validation_results = validation(customized_model, test_dl, centralized_criterion)\n",
    "#             rv[i][direction] = validation_results[1]\n",
    "        \n",
    "#     return rv\n",
    "\n"
   ]
  },
  {
   "cell_type": "code",
   "execution_count": 65,
   "metadata": {
    "jupyter": {
     "source_hidden": true
    },
    "tags": []
   },
   "outputs": [],
   "source": [
    "# results = []\n",
    "# for i in range(50):\n",
    "#     next_result = perform_whole_fedavg_and_customization_for_all_parties_both_directions()\n",
    "#     results.append(next_result)\n",
    "#     print(f'{next_result}\\n')"
   ]
  },
  {
   "cell_type": "code",
   "execution_count": 66,
   "metadata": {
    "jupyter": {
     "source_hidden": true
    },
    "tags": []
   },
   "outputs": [],
   "source": [
    "# rearranged_results = [[],[],[],[],[],[]]\n",
    "\n",
    "# for result in results:\n",
    "#     rearranged_results[0].append(result[0][0])\n",
    "#     rearranged_results[1].append(result[0][1])\n",
    "#     rearranged_results[2].append(result[1][0])\n",
    "#     rearranged_results[3].append(result[1][1])\n",
    "#     rearranged_results[4].append(result[2][0])\n",
    "#     rearranged_results[5].append(result[2][1])"
   ]
  },
  {
   "cell_type": "code",
   "execution_count": 67,
   "metadata": {
    "jupyter": {
     "source_hidden": true
    },
    "tags": []
   },
   "outputs": [],
   "source": [
    "# plt.boxplot(rearranged_results)\n",
    "# plt.xticks(range(1,7), ['0b', '0f', '1b', '1f', '2b', '2f'])\n",
    "# plt.suptitle('Distribution of performances with different layer training directions')\n",
    "# plt.xlabel('Party index and layer training direction (b = back to front, f = front to back)')\n",
    "# plt.ylabel('Performance')\n",
    "# plt.show()"
   ]
  },
  {
   "cell_type": "code",
   "execution_count": 68,
   "metadata": {
    "jupyter": {
     "source_hidden": true
    },
    "tags": []
   },
   "outputs": [],
   "source": [
    "# with open('exp4_results', 'wb') as f:\n",
    "#     pickle.dump(rearranged_results, f)"
   ]
  },
  {
   "cell_type": "code",
   "execution_count": 69,
   "metadata": {
    "jupyter": {
     "source_hidden": true
    },
    "tags": []
   },
   "outputs": [],
   "source": [
    "# with open('exp4_results', 'rb') as f:\n",
    "#     results = pickle.load(f)"
   ]
  },
  {
   "cell_type": "code",
   "execution_count": 70,
   "metadata": {
    "jupyter": {
     "source_hidden": true
    },
    "tags": []
   },
   "outputs": [],
   "source": [
    "# statsmodels.stats.weightstats.ztest(results[0], x2=results[1], value=0)"
   ]
  },
  {
   "cell_type": "code",
   "execution_count": 71,
   "metadata": {
    "jupyter": {
     "source_hidden": true
    },
    "tags": []
   },
   "outputs": [],
   "source": [
    "# statsmodels.stats.weightstats.ztest(results[2], x2=results[3], value=0)"
   ]
  },
  {
   "cell_type": "code",
   "execution_count": 72,
   "metadata": {
    "jupyter": {
     "source_hidden": true
    },
    "tags": []
   },
   "outputs": [],
   "source": [
    "# statsmodels.stats.weightstats.ztest(results[4], x2=results[5], value=0)"
   ]
  },
  {
   "cell_type": "code",
   "execution_count": 73,
   "metadata": {
    "jupyter": {
     "source_hidden": true
    },
    "tags": []
   },
   "outputs": [],
   "source": [
    "# print([np.mean(r) for r in results])\n",
    "# print([np.std(r) for r in results])\n",
    "# print([np.median(r) for r in results])"
   ]
  }
 ],
 "metadata": {
  "kernelspec": {
   "display_name": "Python 3 (ipykernel)",
   "language": "python",
   "name": "python3"
  },
  "language_info": {
   "codemirror_mode": {
    "name": "ipython",
    "version": 3
   },
   "file_extension": ".py",
   "mimetype": "text/x-python",
   "name": "python",
   "nbconvert_exporter": "python",
   "pygments_lexer": "ipython3",
   "version": "3.8.8"
  }
 },
 "nbformat": 4,
 "nbformat_minor": 4
}
